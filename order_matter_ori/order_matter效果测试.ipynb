{
 "cells": [
  {
   "cell_type": "markdown",
   "metadata": {},
   "source": [
    "### Order Matter Origin"
   ]
  },
  {
   "cell_type": "code",
   "execution_count": 2,
   "metadata": {},
   "outputs": [
    {
     "name": "stdout",
     "output_type": "stream",
     "text": [
      "RDKit is not installed, which is required for utils related to cheminformatics\n"
     ]
    }
   ],
   "source": [
    "from order_matter_ori.block_embedding import generate_block_embedding_cfg_to_file\n",
    "from order_matter_ori.train_end2end import generate_function_embedding_to_pickle,func_embedding_model_test"
   ]
  },
  {
   "cell_type": "code",
   "execution_count": 3,
   "metadata": {},
   "outputs": [],
   "source": [
    "bert_epoch = 10\n",
    "siamese_gnn_epoch = 20\n",
    "\n",
    "origin_cfg_train_path = \"data/train_json/\"\n",
    "origin_cfg_test_path = \"data/test_json/\"\n",
    "vocab_path = \"data/order_matter/vocab\"\n",
    "bert_model_path = \"model_file/order_matter/bert/bert_train_4_task.model\"   # bert模型输出文件集基本格式，最终输出模型文件还会在后面加上轮数与损失\n",
    "block_embedding_train_file_path = \"data/order_matter/train_json_block_embedding_graph_4_task/\"\n",
    "block_embedding_test_file_path = \"data/order_matter/test_json_block_embedding_graph_4_task/\"\n",
    "\n",
    "func_embedding_model_path = \"model_file/order_matter/function_similarity/origin/\"\n",
    "trainset_func_embedding_file_path = \"data/order_matter/origin/function_embedding_trainset_epoch{}.pickle\".format(19)\n",
    "testset_func_embedding_file_path = \"data/order_matter/origin/function_embedding_testset_epoch{}.pickle\".format(19)\n",
    "func_embedding_test_result = \"data/order_matter/origin/\""
   ]
  },
  {
   "cell_type": "code",
   "execution_count": 4,
   "metadata": {},
   "outputs": [],
   "source": [
    "bert_model_path = \"model_file/order_matter/bert/bert_train_4_task.model.ep4\""
   ]
  },
  {
   "cell_type": "code",
   "execution_count": 6,
   "metadata": {},
   "outputs": [],
   "source": [
    "func_embedding_model_path = \"model_file/order_matter/function_similarity/origin/siamese_network_gnn_trained_loss_0.1048.model.ep19\""
   ]
  },
  {
   "cell_type": "code",
   "execution_count": 7,
   "metadata": {},
   "outputs": [
    {
     "name": "stderr",
     "output_type": "stream",
     "text": [
      "100%|██████████| 177/177 [22:05<00:00,  7.49s/it]\n",
      "100%|██████████| 76/76 [07:04<00:00,  5.58s/it]\n"
     ]
    }
   ],
   "source": [
    "# 5. 生成函数使用模型向量化的结果\n",
    "func_embedding_train_file = generate_function_embedding_to_pickle(\n",
    "    datapath=block_embedding_train_file_path,\n",
    "    embedding_model_file_path=func_embedding_model_path,\n",
    "    save_file=trainset_func_embedding_file_path,\n",
    ")\n",
    "\n",
    "func_embedding_test_file = generate_function_embedding_to_pickle(\n",
    "    datapath=block_embedding_test_file_path,\n",
    "    embedding_model_file_path=func_embedding_model_path,\n",
    "    save_file=testset_func_embedding_file_path,\n",
    ")\n",
    "\n"
   ]
  },
  {
   "cell_type": "code",
   "execution_count": 14,
   "metadata": {},
   "outputs": [
    {
     "name": "stderr",
     "output_type": "stream",
     "text": [
      "INFO:root:Log File Save To:     /home/yhk/github/PalmTree/log/test.log\n",
      "【2022-06-29 11:35:55】INFO: Log File Save To:     /home/yhk/github/PalmTree/log/test.log\n"
     ]
    }
   ],
   "source": [
    "from util.common_helper import read_pickle,write_pickle\n",
    "import logging\n",
    "from util.log_helper import get_logger\n",
    "from order_matter_ori.function_embedding.similarity_function_find import get_top_k_sim_func,predict_top_k_correct\n",
    "logger = get_logger('test.log')\n",
    "def func_embedding_model_test(\n",
    "        test_file_path,\n",
    "        result_save_path = \"data/order_matter/\",\n",
    "        is_trainset = False\n",
    "    ):\n",
    "    logging.info(\"【Function Embedding Effect Test】\")\n",
    "    if is_trainset:\n",
    "        logging.info(\"Trainset:\")\n",
    "    else:\n",
    "        logging.info(\"Testset:\")\n",
    "\n",
    "    df_func_data = read_pickle(test_file_path)\n",
    "    sample_nums = df_func_data.shape[0]\n",
    "\n",
    "    logging.info(\"\\t测试输入数据：{}\".format(test_file_path))\n",
    "    logging.info(\"\\t查找样本总数:{}\".format(sample_nums))\n",
    "    logging.info(\"\\t源程序包含的函数个数：{}\".format(df_func_data.drop_duplicates(\"func_name\").shape[0]))\n",
    "\n",
    "    embedding_l = df_func_data[\"func_embedding\"].values.tolist()\n",
    "    func_name_l = df_func_data[\"func_name\"].values.tolist()\n",
    "    top_5_func,top_5_sim_scores,top_5_funcs_indexs = get_top_k_sim_func(embedding_l,embedding_l,func_name_l,6)\n",
    "    top_1_func,top_1_sim_scores,top_1_funcs_indexs = get_top_k_sim_func(embedding_l,embedding_l,func_name_l,2)\n",
    "\n",
    "    df_func_data[\"top_1_func\"] = top_1_func\n",
    "    df_func_data[\"top_1_cos_dis\"] = top_1_sim_scores\n",
    "    df_func_data[\"top_1_func_index\"] = top_1_funcs_indexs\n",
    "    df_func_data[\"top_5_func\"] = top_5_func\n",
    "    df_func_data[\"top_5_cos_dis\"] = top_5_sim_scores\n",
    "    df_func_data[\"top_5_func_index\"] = top_5_funcs_indexs\n",
    "    \n",
    "    df_func_data[\"top_1_predict\"] = df_func_data.apply(lambda x:predict_top_k_correct(x.func_name,x.top_1_func),axis=1)\n",
    "    top_1_correct_sample_nums = df_func_data[df_func_data[\"top_1_predict\"]==True].shape[0]\n",
    "    top_1_acc = top_1_correct_sample_nums/sample_nums\n",
    "    logging.info(\"\\ttop 1准确率：{}\".format(top_1_acc))\n",
    "    df_func_data[\"top_5_predict\"] = df_func_data.apply(lambda x:predict_top_k_correct(x.func_name,x.top_5_func),axis=1)\n",
    "    top_5_correct_sample_nums = df_func_data[df_func_data[\"top_5_predict\"]==True].shape[0]\n",
    "    top_5_acc = top_5_correct_sample_nums/sample_nums\n",
    "    logging.info(\"\\ttop 5准确率：{}\".format(top_5_acc))\n",
    "    if result_save_path.endswith(\"/\"):\n",
    "        result_save_path = result_save_path[:-1]\n",
    "\n",
    "    if is_trainset:\n",
    "        save_path = \"{}/fun_sim_test_{}_{}_{}.pkl\".format(result_save_path,\"trainset\",top_1_acc,top_5_acc)\n",
    "    else:\n",
    "        save_path = \"{}/fun_sim_test_{}_{}_{}.pkl\".format(result_save_path,\"testset\",top_1_acc,top_5_acc)\n",
    "    write_pickle(df_func_data,save_path)\n",
    "    logging.info(\"\\tResult save into:{}\".format(save_path))\n",
    "    return save_path"
   ]
  },
  {
   "cell_type": "code",
   "execution_count": 15,
   "metadata": {},
   "outputs": [
    {
     "name": "stderr",
     "output_type": "stream",
     "text": [
      "INFO:root:【Function Embedding Effect Test】\n",
      "【2022-06-29 11:35:59】INFO: 【Function Embedding Effect Test】\n",
      "INFO:root:Trainset:\n",
      "【2022-06-29 11:35:59】INFO: Trainset:\n",
      "INFO:root:\t测试输入数据：data/order_matter/origin/function_embedding_trainset_epoch19.pickle\n",
      "【2022-06-29 11:36:02】INFO: \t测试输入数据：data/order_matter/origin/function_embedding_trainset_epoch19.pickle\n",
      "INFO:root:\t查找样本总数:169229\n",
      "【2022-06-29 11:36:02】INFO: \t查找样本总数:169229\n",
      "INFO:root:\t源程序包含的函数个数：6213\n",
      "【2022-06-29 11:36:02】INFO: \t源程序包含的函数个数：6213\n",
      "INFO:root:\ttop 1准确率：0.8520525441856892\n",
      "【2022-06-29 11:36:32】INFO: \ttop 1准确率：0.8520525441856892\n",
      "INFO:root:\ttop 5准确率：0.9084731340373103\n",
      "【2022-06-29 11:36:40】INFO: \ttop 5准确率：0.9084731340373103\n",
      "INFO:root:\tResult save into:data/order_matter/origin/fun_sim_test_trainset_0.8520525441856892_0.9084731340373103.pkl\n",
      "【2022-06-29 11:36:44】INFO: \tResult save into:data/order_matter/origin/fun_sim_test_trainset_0.8520525441856892_0.9084731340373103.pkl\n",
      "INFO:root:【Function Embedding Effect Test】\n",
      "【2022-06-29 11:36:44】INFO: 【Function Embedding Effect Test】\n",
      "INFO:root:Testset:\n",
      "【2022-06-29 11:36:44】INFO: Testset:\n",
      "INFO:root:\t测试输入数据：data/order_matter/origin/function_embedding_testset_epoch19.pickle\n",
      "【2022-06-29 11:36:46】INFO: \t测试输入数据：data/order_matter/origin/function_embedding_testset_epoch19.pickle\n",
      "INFO:root:\t查找样本总数:68701\n",
      "【2022-06-29 11:36:46】INFO: \t查找样本总数:68701\n",
      "INFO:root:\t源程序包含的函数个数：2746\n",
      "【2022-06-29 11:36:46】INFO: \t源程序包含的函数个数：2746\n",
      "INFO:root:\ttop 1准确率：0.8358539177013435\n",
      "【2022-06-29 11:36:58】INFO: \ttop 1准确率：0.8358539177013435\n",
      "INFO:root:\ttop 5准确率：0.8939898982547562\n",
      "【2022-06-29 11:37:01】INFO: \ttop 5准确率：0.8939898982547562\n",
      "INFO:root:\tResult save into:data/order_matter/origin/fun_sim_test_testset_0.8358539177013435_0.8939898982547562.pkl\n",
      "【2022-06-29 11:37:03】INFO: \tResult save into:data/order_matter/origin/fun_sim_test_testset_0.8358539177013435_0.8939898982547562.pkl\n"
     ]
    },
    {
     "data": {
      "text/plain": [
       "'data/order_matter/origin/fun_sim_test_testset_0.8358539177013435_0.8939898982547562.pkl'"
      ]
     },
     "execution_count": 15,
     "metadata": {},
     "output_type": "execute_result"
    }
   ],
   "source": [
    "# 5. 测试函数编码模型效果\n",
    "func_embedding_model_test(\n",
    "    test_file_path= func_embedding_train_file,\n",
    "    result_save_path = func_embedding_test_result,\n",
    "    is_trainset=True\n",
    ")\n",
    "\n",
    "func_embedding_model_test(\n",
    "    test_file_path= func_embedding_test_file,\n",
    "    result_save_path = func_embedding_test_result,\n",
    "    is_trainset=False\n",
    ")"
   ]
  },
  {
   "cell_type": "code",
   "execution_count": null,
   "metadata": {},
   "outputs": [],
   "source": []
  },
  {
   "cell_type": "code",
   "execution_count": null,
   "metadata": {},
   "outputs": [],
   "source": []
  },
  {
   "cell_type": "markdown",
   "metadata": {},
   "source": [
    "### Order Matter Atn"
   ]
  },
  {
   "cell_type": "code",
   "execution_count": 19,
   "metadata": {},
   "outputs": [],
   "source": [
    "from order_matter.block_embedding import generate_block_embedding_cfg_to_file\n",
    "from order_matter.train_end2end import generate_function_embedding_to_pickle,func_embedding_model_test"
   ]
  },
  {
   "cell_type": "code",
   "execution_count": 20,
   "metadata": {},
   "outputs": [],
   "source": [
    "bert_epoch = 5\n",
    "siamese_gnn_epoch = 20\n",
    "\n",
    "origin_cfg_train_path = \"data/train_json/\"\n",
    "origin_cfg_test_path = \"data/test_json/\"\n",
    "vocab_path = \"data/order_matter/vocab\"\n",
    "bert_model_path = \"model_file/order_matter/bert/bert_train_4_task.model\"   # bert模型输出文件集基本格式，最终输出模型文件还会在后面加上轮数与损失\n",
    "block_embedding_train_file_path = \"data/order_matter/train_json_block_embedding_graph_4_task/\"\n",
    "block_embedding_test_file_path = \"data/order_matter/test_json_block_embedding_graph_4_task/\"\n",
    "func_embedding_model_path = \"model_file/order_matter/function_similarity/attention/\"\n",
    "trainset_func_embedding_file_path = \"data/order_matter/attention/function_embedding_trainset_epoch{}.pickle\".format(19)\n",
    "testset_func_embedding_file_path = \"data/order_matter/attention/function_embedding_testset_epoch{}.pickle\".format(19)\n",
    "func_embedding_test_result = \"data/order_matter/attention/\"\n",
    "func_embedding_test_result = \"data/order_matter/attention/\""
   ]
  },
  {
   "cell_type": "code",
   "execution_count": 21,
   "metadata": {},
   "outputs": [],
   "source": [
    "func_embedding_model_path = \"model_file/order_matter/function_similarity/attention/siamese_network_gnn_trained_loss_0.06975.model.ep19\""
   ]
  },
  {
   "cell_type": "code",
   "execution_count": null,
   "metadata": {},
   "outputs": [],
   "source": []
  },
  {
   "cell_type": "code",
   "execution_count": 22,
   "metadata": {},
   "outputs": [
    {
     "name": "stderr",
     "output_type": "stream",
     "text": [
      "INFO:root:【Generate Function Embedding data to pickle】\n",
      "【2022-06-29 11:39:21】INFO: 【Generate Function Embedding data to pickle】\n",
      "INFO:root:\tLoad function embedding model form model_file/order_matter/function_similarity/attention/siamese_network_gnn_trained_loss_0.06975.model.ep19\n",
      "【2022-06-29 11:39:21】INFO: \tLoad function embedding model form model_file/order_matter/function_similarity/attention/siamese_network_gnn_trained_loss_0.06975.model.ep19\n",
      "INFO:root:\tLoad function data from data/order_matter/train_json_block_embedding_graph_4_task/\n",
      "【2022-06-29 11:39:23】INFO: \tLoad function data from data/order_matter/train_json_block_embedding_graph_4_task/\n",
      "  6%|▌         | 10/177 [02:29<50:40, 18.21s/it]"
     ]
    }
   ],
   "source": [
    "# 5. 生成函数使用模型向量化的结果\n",
    "func_embedding_train_file = generate_function_embedding_to_pickle(\n",
    "    datapath=block_embedding_train_file_path,\n",
    "    embedding_model_file_path=func_embedding_model_path,\n",
    "    save_file=trainset_func_embedding_file_path,\n",
    ")\n",
    "\n",
    "func_embedding_test_file = generate_function_embedding_to_pickle(\n",
    "    datapath=block_embedding_test_file_path,\n",
    "    embedding_model_file_path=func_embedding_model_path,\n",
    "    save_file=testset_func_embedding_file_path,\n",
    ")"
   ]
  },
  {
   "cell_type": "code",
   "execution_count": null,
   "metadata": {},
   "outputs": [
    {
     "ename": "NameError",
     "evalue": "name 'func_embedding_model_test' is not defined",
     "output_type": "error",
     "traceback": [
      "\u001b[0;31m---------------------------------------------------------------------------\u001b[0m",
      "\u001b[0;31mNameError\u001b[0m                                 Traceback (most recent call last)",
      "\u001b[0;32m<ipython-input-1-fd46c9fb3f95>\u001b[0m in \u001b[0;36m<module>\u001b[0;34m\u001b[0m\n\u001b[1;32m      1\u001b[0m \u001b[0;31m# 5. 测试函数编码模型效果\u001b[0m\u001b[0;34m\u001b[0m\u001b[0;34m\u001b[0m\u001b[0;34m\u001b[0m\u001b[0m\n\u001b[0;32m----> 2\u001b[0;31m func_embedding_model_test(\n\u001b[0m\u001b[1;32m      3\u001b[0m     \u001b[0mtest_file_path\u001b[0m\u001b[0;34m=\u001b[0m \u001b[0mfunc_embedding_train_file\u001b[0m\u001b[0;34m,\u001b[0m\u001b[0;34m\u001b[0m\u001b[0;34m\u001b[0m\u001b[0m\n\u001b[1;32m      4\u001b[0m     \u001b[0mresult_save_path\u001b[0m \u001b[0;34m=\u001b[0m \u001b[0mfunc_embedding_test_result\u001b[0m\u001b[0;34m,\u001b[0m\u001b[0;34m\u001b[0m\u001b[0;34m\u001b[0m\u001b[0m\n\u001b[1;32m      5\u001b[0m     \u001b[0mis_trainset\u001b[0m\u001b[0;34m=\u001b[0m\u001b[0;32mTrue\u001b[0m\u001b[0;34m\u001b[0m\u001b[0;34m\u001b[0m\u001b[0m\n",
      "\u001b[0;31mNameError\u001b[0m: name 'func_embedding_model_test' is not defined"
     ]
    }
   ],
   "source": [
    "# 5. 测试函数编码模型效果\n",
    "func_embedding_model_test(\n",
    "    test_file_path= func_embedding_train_file,\n",
    "    result_save_path = func_embedding_test_result,\n",
    "    is_trainset=True\n",
    ")\n",
    "\n",
    "func_embedding_model_test(\n",
    "    test_file_path= func_embedding_test_file,\n",
    "    result_save_path = func_embedding_test_result,\n",
    "    is_trainset=False\n",
    ")"
   ]
  },
  {
   "cell_type": "code",
   "execution_count": null,
   "metadata": {},
   "outputs": [],
   "source": []
  }
 ],
 "metadata": {
  "interpreter": {
   "hash": "d4d1e4263499bec80672ea0156c357c1ee493ec2b1c70f0acce89fc37c4a6abe"
  },
  "kernelspec": {
   "display_name": "Python 3",
   "language": "python",
   "name": "python3"
  },
  "language_info": {
   "codemirror_mode": {
    "name": "ipython",
    "version": 3
   },
   "file_extension": ".py",
   "mimetype": "text/x-python",
   "name": "python",
   "nbconvert_exporter": "python",
   "pygments_lexer": "ipython3",
   "version": "3.7.4"
  }
 },
 "nbformat": 4,
 "nbformat_minor": 4
}
