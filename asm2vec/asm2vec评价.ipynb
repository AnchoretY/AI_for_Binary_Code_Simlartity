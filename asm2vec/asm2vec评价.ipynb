{
 "cells": [
  {
   "cell_type": "code",
   "execution_count": 1,
   "metadata": {},
   "outputs": [
    {
     "name": "stderr",
     "output_type": "stream",
     "text": [
      "【2022-06-23 22:14:00】INFO: Log File Save To:     /home/yhk/github/asm2vec-pytorch/log/test.log\n"
     ]
    }
   ],
   "source": [
    "import torch\n",
    "import torch.nn as nn\n",
    "import click\n",
    "import asm2vec\n",
    "import logging\n",
    "from util.log_helper import get_logger\n",
    "logger = get_logger(\"test.log\")\n",
    "\n",
    "def cosine_similarity(v1, v2):\n",
    "    return (v1 @ v2 / (v1.norm() * v2.norm())).item()"
   ]
  },
  {
   "cell_type": "code",
   "execution_count": 2,
   "metadata": {},
   "outputs": [],
   "source": [
    "mpath = \"./model.pt\"\n",
    "ipath1 = \"./test_sample/binutils-2.37_x86-64_O0_clang_addr2line_sym.__libc_csu_init.asm\"\n",
    "ipath2 = \"./test_sample/binutils-2.37_x86-64_O0_clang_addr2line_sym.__libc_csu_init.asm\"\n",
    "device = \"auto\"\n",
    "epochs = 10\n",
    "lr = 0.025"
   ]
  },
  {
   "cell_type": "code",
   "execution_count": 3,
   "metadata": {},
   "outputs": [
    {
     "ename": "NameError",
     "evalue": "name 'ipath' is not defined",
     "output_type": "error",
     "traceback": [
      "\u001b[0;31m---------------------------------------------------------------------------\u001b[0m",
      "\u001b[0;31mNameError\u001b[0m                                 Traceback (most recent call last)",
      "\u001b[0;32m<ipython-input-3-7bae52e4ea3a>\u001b[0m in \u001b[0;36m<module>\u001b[0;34m\u001b[0m\n\u001b[1;32m      1\u001b[0m \u001b[0;32mimport\u001b[0m \u001b[0mos\u001b[0m\u001b[0;34m\u001b[0m\u001b[0;34m\u001b[0m\u001b[0m\n\u001b[0;32m----> 2\u001b[0;31m \u001b[0mfile_l\u001b[0m \u001b[0;34m=\u001b[0m \u001b[0mos\u001b[0m\u001b[0;34m.\u001b[0m\u001b[0mlistdir\u001b[0m\u001b[0;34m(\u001b[0m\u001b[0mipath\u001b[0m\u001b[0;34m)\u001b[0m\u001b[0;34m\u001b[0m\u001b[0;34m\u001b[0m\u001b[0m\n\u001b[0m",
      "\u001b[0;31mNameError\u001b[0m: name 'ipath' is not defined"
     ]
    }
   ],
   "source": [
    "import os\n",
    "file_l = os.listdir(ipath)"
   ]
  },
  {
   "cell_type": "code",
   "execution_count": null,
   "metadata": {},
   "outputs": [],
   "source": [
    "count = 0\n",
    "for file in file_l:\n",
    "    if \"_O3_\" in file:\n",
    "        os.system(\"mv ./radare2_export_asm_task7/{} ./test_sample/\".format(file))\n",
    "        count+=1\n",
    "    if count==900:\n",
    "        break"
   ]
  },
  {
   "cell_type": "code",
   "execution_count": null,
   "metadata": {},
   "outputs": [],
   "source": []
  },
  {
   "cell_type": "code",
   "execution_count": 5,
   "metadata": {},
   "outputs": [
    {
     "name": "stderr",
     "output_type": "stream",
     "text": [
      "348412it [12:19, 471.38it/s] \n"
     ]
    }
   ],
   "source": [
    "ipath = \"./radare2_export_asm_task7/\"\n",
    "\n",
    "functions, tokens_new = asm2vec.utils.load_data(ipath)"
   ]
  },
  {
   "cell_type": "code",
   "execution_count": 6,
   "metadata": {},
   "outputs": [
    {
     "data": {
      "text/plain": [
       "348412"
      ]
     },
     "execution_count": 6,
     "metadata": {},
     "output_type": "execute_result"
    }
   ],
   "source": [
    "len(functions)"
   ]
  },
  {
   "cell_type": "code",
   "execution_count": 7,
   "metadata": {},
   "outputs": [
    {
     "name": "stdout",
     "output_type": "stream",
     "text": [
      "Embedding(347099, 200)\n"
     ]
    }
   ],
   "source": [
    "if device == 'auto':\n",
    "    device = 'cuda' if torch.cuda.is_available() else 'cpu'\n",
    "\n",
    "# load model, tokens\n",
    "model, tokens = asm2vec.utils.load_model(mpath, device=device)\n",
    "print(model.embeddings_f)\n",
    "\n",
    "tokens.update(tokens_new)\n",
    "model.update(len(functions), tokens.size())\n",
    "model = model.to(device)\n"
   ]
  },
  {
   "cell_type": "code",
   "execution_count": null,
   "metadata": {},
   "outputs": [],
   "source": []
  },
  {
   "cell_type": "code",
   "execution_count": 8,
   "metadata": {},
   "outputs": [
    {
     "name": "stderr",
     "output_type": "stream",
     "text": [
      "【2022-06-23 22:27:04】INFO: Start train...\n",
      "35168it [11:57, 49.04it/s]\n",
      "35168it [13:07, 44.66it/s]\n",
      "35168it [12:56, 45.27it/s]\n",
      "35168it [11:32, 50.81it/s]\n",
      "35168it [11:32, 50.81it/s]\n",
      "35168it [11:32, 50.77it/s]\n",
      "35168it [11:25, 51.32it/s]\n",
      "35168it [11:42, 50.08it/s]\n",
      "35168it [10:44, 54.58it/s]\n",
      "35168it [12:20, 47.49it/s]\n",
      "【2022-06-24 00:39:09】INFO: Completed train!\n"
     ]
    }
   ],
   "source": [
    "logging.info(\"Start train...\")\n",
    "# train function embedding\n",
    "model = asm2vec.utils.train(\n",
    "    functions,\n",
    "    tokens,\n",
    "    model=model,\n",
    "    epochs=epochs,\n",
    "    device=device,\n",
    "    mode='test',\n",
    "    learning_rate=lr\n",
    ")\n",
    "logging.info(\"Completed train!\")"
   ]
  },
  {
   "cell_type": "code",
   "execution_count": 9,
   "metadata": {},
   "outputs": [
    {
     "ename": "NameError",
     "evalue": "name 'func_names' is not defined",
     "output_type": "error",
     "traceback": [
      "\u001b[0;31m---------------------------------------------------------------------------\u001b[0m",
      "\u001b[0;31mNameError\u001b[0m                                 Traceback (most recent call last)",
      "\u001b[0;32m<ipython-input-9-cc817bcefd29>\u001b[0m in \u001b[0;36m<module>\u001b[0;34m\u001b[0m\n\u001b[0;32m----> 1\u001b[0;31m \u001b[0;32mfor\u001b[0m \u001b[0mi\u001b[0m\u001b[0;34m,\u001b[0m\u001b[0mfunc_name\u001b[0m \u001b[0;32min\u001b[0m \u001b[0menumerate\u001b[0m\u001b[0;34m(\u001b[0m\u001b[0mfunc_names\u001b[0m\u001b[0;34m)\u001b[0m\u001b[0;34m:\u001b[0m\u001b[0;34m\u001b[0m\u001b[0;34m\u001b[0m\u001b[0m\n\u001b[0m\u001b[1;32m      2\u001b[0m     \u001b[0;32mif\u001b[0m \u001b[0;34m\"zlib_advance\"\u001b[0m \u001b[0;32min\u001b[0m \u001b[0mfunc_name\u001b[0m\u001b[0;34m:\u001b[0m\u001b[0;34m\u001b[0m\u001b[0;34m\u001b[0m\u001b[0m\n\u001b[1;32m      3\u001b[0m         \u001b[0mprint\u001b[0m\u001b[0;34m(\u001b[0m\u001b[0mfunc_name\u001b[0m\u001b[0;34m)\u001b[0m\u001b[0;34m\u001b[0m\u001b[0;34m\u001b[0m\u001b[0m\n",
      "\u001b[0;31mNameError\u001b[0m: name 'func_names' is not defined"
     ]
    }
   ],
   "source": [
    "for i,func_name in enumerate(func_names):\n",
    "    if \"zlib_advance\" in func_name:\n",
    "        print(func_name)"
   ]
  },
  {
   "cell_type": "code",
   "execution_count": 9,
   "metadata": {},
   "outputs": [],
   "source": [
    "func_name_l = [function.meta[\"name\"] for function in functions]"
   ]
  },
  {
   "cell_type": "code",
   "execution_count": 10,
   "metadata": {},
   "outputs": [],
   "source": [
    "embedding_l = model.to(\"cpu\").embeddings_f.weight.tolist()"
   ]
  },
  {
   "cell_type": "code",
   "execution_count": 3,
   "metadata": {},
   "outputs": [],
   "source": [
    "import hnswlib\n",
    "import numpy as np\n",
    "import pickle\n",
    "\n",
    "def top_k_vector_find_hnsw(query_embedding,embedding_library,k=5):\n",
    "    dim = len(embedding_library[0])\n",
    "    num_elements = len(embedding_library)\n",
    "    \n",
    "    ids = np.arange(num_elements)\n",
    "    \n",
    "    # Declaring index\n",
    "    p = hnswlib.Index(space = 'cosine', dim = dim) # possible options are l2, cosine or ip\n",
    "\n",
    "    # Initializing index - the maximum number of elements should be known beforehand\n",
    "    p.init_index(max_elements = num_elements, ef_construction = 200, M = 16)\n",
    "    \n",
    "    # Element insertion (can be called several times):\n",
    "    p.add_items(embedding_library, ids)\n",
    "    \n",
    "    # Controlling the recall by setting ef:\n",
    "    p.set_ef(50) # ef should always be > k\n",
    "\n",
    "    # Query dataset, k - number of closest elements (returns 2 numpy arrays)\n",
    "    labels, distances = p.knn_query(query_embedding, k = k)\n",
    "    return labels,distances\n",
    "    \n",
    "def get_top_k_sim_func(query_embedding,embedding_library,embedding_library_func_names,k=5):\n",
    "    \"\"\"\n",
    "        \n",
    "    \"\"\"\n",
    "    top_k_funcs = []\n",
    "    top_k_indexs,sim_scores = top_k_vector_find_hnsw(query_embedding,embedding_library,k)\n",
    "#     for i,top_k_index in enumerate(top_k_indexs):\n",
    "#         top_k_funcs.append([embedding_library_func_names[j] for j in top_k_indexs])\n",
    "#     return top_k_funcs,sim_scores,top_k_funcs_indexs\n",
    "    return sim_scores,top_k_funcs_indexs"
   ]
  },
  {
   "cell_type": "code",
   "execution_count": 4,
   "metadata": {},
   "outputs": [
    {
     "ename": "NameError",
     "evalue": "name 'embedding_l' is not defined",
     "output_type": "error",
     "traceback": [
      "\u001b[0;31m---------------------------------------------------------------------------\u001b[0m",
      "\u001b[0;31mNameError\u001b[0m                                 Traceback (most recent call last)",
      "\u001b[0;32m<ipython-input-4-6663fbbbc640>\u001b[0m in \u001b[0;36m<module>\u001b[0;34m\u001b[0m\n\u001b[0;32m----> 1\u001b[0;31m \u001b[0msim_scores\u001b[0m\u001b[0;34m,\u001b[0m\u001b[0mtop_k_funcs_indexs\u001b[0m \u001b[0;34m=\u001b[0m \u001b[0mget_top_k_sim_func\u001b[0m\u001b[0;34m(\u001b[0m\u001b[0membedding_l\u001b[0m\u001b[0;34m,\u001b[0m\u001b[0membedding_l\u001b[0m\u001b[0;34m,\u001b[0m\u001b[0mfunc_name_l\u001b[0m\u001b[0;34m)\u001b[0m\u001b[0;34m\u001b[0m\u001b[0;34m\u001b[0m\u001b[0m\n\u001b[0m",
      "\u001b[0;31mNameError\u001b[0m: name 'embedding_l' is not defined"
     ]
    }
   ],
   "source": [
    "sim_scores,top_k_funcs_indexs = get_top_k_sim_func(embedding_l,embedding_l,func_name_l)"
   ]
  },
  {
   "cell_type": "code",
   "execution_count": 1,
   "metadata": {},
   "outputs": [
    {
     "ename": "NameError",
     "evalue": "name 'sim_scores' is not defined",
     "output_type": "error",
     "traceback": [
      "\u001b[0;31m---------------------------------------------------------------------------\u001b[0m",
      "\u001b[0;31mNameError\u001b[0m                                 Traceback (most recent call last)",
      "\u001b[0;32m<ipython-input-1-f1ea3836fefb>\u001b[0m in \u001b[0;36m<module>\u001b[0;34m\u001b[0m\n\u001b[0;32m----> 1\u001b[0;31m \u001b[0msim_scores\u001b[0m\u001b[0;34m\u001b[0m\u001b[0;34m\u001b[0m\u001b[0m\n\u001b[0m",
      "\u001b[0;31mNameError\u001b[0m: name 'sim_scores' is not defined"
     ]
    }
   ],
   "source": [
    "sim_scores"
   ]
  },
  {
   "cell_type": "code",
   "execution_count": null,
   "metadata": {},
   "outputs": [],
   "source": []
  }
 ],
 "metadata": {
  "interpreter": {
   "hash": "d4d1e4263499bec80672ea0156c357c1ee493ec2b1c70f0acce89fc37c4a6abe"
  },
  "kernelspec": {
   "display_name": "Python 3",
   "language": "python",
   "name": "python3"
  },
  "language_info": {
   "codemirror_mode": {
    "name": "ipython",
    "version": 3
   },
   "file_extension": ".py",
   "mimetype": "text/x-python",
   "name": "python",
   "nbconvert_exporter": "python",
   "pygments_lexer": "ipython3",
   "version": "3.7.4"
  }
 },
 "nbformat": 4,
 "nbformat_minor": 4
}
